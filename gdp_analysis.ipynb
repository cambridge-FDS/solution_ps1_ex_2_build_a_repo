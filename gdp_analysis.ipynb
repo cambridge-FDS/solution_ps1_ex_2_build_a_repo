{
 "cells": [
  {
   "cell_type": "code",
   "execution_count": null,
   "metadata": {
    "vscode": {
     "languageId": "plaintext"
    }
   },
   "outputs": [],
   "source": [
    "import gdp"
   ]
  },
  {
   "cell_type": "markdown",
   "metadata": {},
   "source": [
    "# GDP Analysis"
   ]
  },
  {
   "cell_type": "code",
   "execution_count": null,
   "metadata": {
    "vscode": {
     "languageId": "plaintext"
    }
   },
   "outputs": [],
   "source": [
    "FILE_NAME = \"data.csv\"\n",
    "COUNTRY_CODES = [\"GBR\", \"USA\", \"BRA\", \"JPN\", \"CHN\", \"DEU\", \"CHE\"]\n",
    "START_YEAR = 2000\n",
    "END_YEAR = 2019"
   ]
  },
  {
   "cell_type": "code",
   "execution_count": null,
   "metadata": {
    "vscode": {
     "languageId": "plaintext"
    }
   },
   "outputs": [],
   "source": [
    "\n",
    "df = gdp.data.read_data(FILE_NAME)\n",
    "df_small = gdp.data.data_cleaner(df, COUNTRY_CODES, 2000, 2019)\n",
    "df_small"
   ]
  }
 ],
 "metadata": {
  "language_info": {
   "name": "python"
  }
 },
 "nbformat": 4,
 "nbformat_minor": 2
}
